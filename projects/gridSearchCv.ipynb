from sklearn import svm, datasets
iris = datasets.load_iris()
